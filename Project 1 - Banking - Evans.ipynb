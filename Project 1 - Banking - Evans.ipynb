{
 "cells": [
  {
   "cell_type": "code",
   "execution_count": 1,
   "metadata": {},
   "outputs": [],
   "source": [
    "#importing required libraries\n",
    "import pandas as pd\n",
    "\n",
    "import sklearn.metrics as metrics\n",
    "from sklearn.tree import DecisionTreeClassifier\n",
    "from sklearn.model_selection import train_test_split\n",
    "from sklearn.metrics import accuracy_score\n",
    "from sklearn import svm\n",
    "from sklearn.model_selection import GridSearchCV\n",
    "from sklearn.ensemble import RandomForestClassifier\n",
    "from sklearn.linear_model import LogisticRegression\n",
    "from sklearn.metrics import classification_report, confusion_matrix \n",
    "from sklearn.svm import SVC \n",
    "\n",
    "from matplotlib.pyplot import figure"
   ]
  },
  {
   "cell_type": "code",
   "execution_count": 2,
   "metadata": {},
   "outputs": [
    {
     "data": {
      "text/plain": [
       "(8000, 17)"
      ]
     },
     "execution_count": 2,
     "metadata": {},
     "output_type": "execute_result"
    }
   ],
   "source": [
    "#Loading desired file into a dataframe\n",
    "df1 = pd.read_csv(\"Data/bank/bank-full.csv\", sep=';')\n",
    "df = df1[:8000]\n",
    "\n",
    "\n",
    "#df = pd.read_csv(\"Data/bank/bank.csv\", sep=';')\n",
    "\n",
    "#Look at the shape to see rows and columns\n",
    "df.shape"
   ]
  },
  {
   "cell_type": "code",
   "execution_count": 3,
   "metadata": {},
   "outputs": [
    {
     "data": {
      "text/html": [
       "<div>\n",
       "<style scoped>\n",
       "    .dataframe tbody tr th:only-of-type {\n",
       "        vertical-align: middle;\n",
       "    }\n",
       "\n",
       "    .dataframe tbody tr th {\n",
       "        vertical-align: top;\n",
       "    }\n",
       "\n",
       "    .dataframe thead th {\n",
       "        text-align: right;\n",
       "    }\n",
       "</style>\n",
       "<table border=\"1\" class=\"dataframe\">\n",
       "  <thead>\n",
       "    <tr style=\"text-align: right;\">\n",
       "      <th></th>\n",
       "      <th>age</th>\n",
       "      <th>balance</th>\n",
       "      <th>day</th>\n",
       "      <th>duration</th>\n",
       "      <th>campaign</th>\n",
       "      <th>pdays</th>\n",
       "      <th>previous</th>\n",
       "    </tr>\n",
       "  </thead>\n",
       "  <tbody>\n",
       "    <tr>\n",
       "      <td>count</td>\n",
       "      <td>8000.000000</td>\n",
       "      <td>8000.000000</td>\n",
       "      <td>8000.000000</td>\n",
       "      <td>8000.000000</td>\n",
       "      <td>8000.000000</td>\n",
       "      <td>8000.0</td>\n",
       "      <td>8000.0</td>\n",
       "    </tr>\n",
       "    <tr>\n",
       "      <td>mean</td>\n",
       "      <td>39.452125</td>\n",
       "      <td>1010.212625</td>\n",
       "      <td>17.634125</td>\n",
       "      <td>264.975250</td>\n",
       "      <td>2.542000</td>\n",
       "      <td>-1.0</td>\n",
       "      <td>0.0</td>\n",
       "    </tr>\n",
       "    <tr>\n",
       "      <td>std</td>\n",
       "      <td>9.254670</td>\n",
       "      <td>2466.448855</td>\n",
       "      <td>8.230977</td>\n",
       "      <td>249.763865</td>\n",
       "      <td>2.854296</td>\n",
       "      <td>0.0</td>\n",
       "      <td>0.0</td>\n",
       "    </tr>\n",
       "    <tr>\n",
       "      <td>min</td>\n",
       "      <td>20.000000</td>\n",
       "      <td>-3372.000000</td>\n",
       "      <td>2.000000</td>\n",
       "      <td>0.000000</td>\n",
       "      <td>1.000000</td>\n",
       "      <td>-1.0</td>\n",
       "      <td>0.0</td>\n",
       "    </tr>\n",
       "    <tr>\n",
       "      <td>25%</td>\n",
       "      <td>32.000000</td>\n",
       "      <td>40.000000</td>\n",
       "      <td>9.000000</td>\n",
       "      <td>118.000000</td>\n",
       "      <td>1.000000</td>\n",
       "      <td>-1.0</td>\n",
       "      <td>0.0</td>\n",
       "    </tr>\n",
       "    <tr>\n",
       "      <td>50%</td>\n",
       "      <td>38.000000</td>\n",
       "      <td>323.000000</td>\n",
       "      <td>16.000000</td>\n",
       "      <td>193.000000</td>\n",
       "      <td>2.000000</td>\n",
       "      <td>-1.0</td>\n",
       "      <td>0.0</td>\n",
       "    </tr>\n",
       "    <tr>\n",
       "      <td>75%</td>\n",
       "      <td>46.000000</td>\n",
       "      <td>1025.000000</td>\n",
       "      <td>26.000000</td>\n",
       "      <td>322.000000</td>\n",
       "      <td>3.000000</td>\n",
       "      <td>-1.0</td>\n",
       "      <td>0.0</td>\n",
       "    </tr>\n",
       "    <tr>\n",
       "      <td>max</td>\n",
       "      <td>61.000000</td>\n",
       "      <td>58544.000000</td>\n",
       "      <td>30.000000</td>\n",
       "      <td>3366.000000</td>\n",
       "      <td>63.000000</td>\n",
       "      <td>-1.0</td>\n",
       "      <td>0.0</td>\n",
       "    </tr>\n",
       "  </tbody>\n",
       "</table>\n",
       "</div>"
      ],
      "text/plain": [
       "               age       balance          day     duration     campaign  \\\n",
       "count  8000.000000   8000.000000  8000.000000  8000.000000  8000.000000   \n",
       "mean     39.452125   1010.212625    17.634125   264.975250     2.542000   \n",
       "std       9.254670   2466.448855     8.230977   249.763865     2.854296   \n",
       "min      20.000000  -3372.000000     2.000000     0.000000     1.000000   \n",
       "25%      32.000000     40.000000     9.000000   118.000000     1.000000   \n",
       "50%      38.000000    323.000000    16.000000   193.000000     2.000000   \n",
       "75%      46.000000   1025.000000    26.000000   322.000000     3.000000   \n",
       "max      61.000000  58544.000000    30.000000  3366.000000    63.000000   \n",
       "\n",
       "        pdays  previous  \n",
       "count  8000.0    8000.0  \n",
       "mean     -1.0       0.0  \n",
       "std       0.0       0.0  \n",
       "min      -1.0       0.0  \n",
       "25%      -1.0       0.0  \n",
       "50%      -1.0       0.0  \n",
       "75%      -1.0       0.0  \n",
       "max      -1.0       0.0  "
      ]
     },
     "execution_count": 3,
     "metadata": {},
     "output_type": "execute_result"
    }
   ],
   "source": [
    "#To visualize the numerical columns for potentional issues for cleaning\n",
    "df.describe()"
   ]
  },
  {
   "cell_type": "code",
   "execution_count": 4,
   "metadata": {},
   "outputs": [
    {
     "data": {
      "text/plain": [
       "age          0\n",
       "job          0\n",
       "marital      0\n",
       "education    0\n",
       "default      0\n",
       "balance      0\n",
       "housing      0\n",
       "loan         0\n",
       "contact      0\n",
       "day          0\n",
       "month        0\n",
       "duration     0\n",
       "campaign     0\n",
       "pdays        0\n",
       "previous     0\n",
       "poutcome     0\n",
       "y            0\n",
       "dtype: int64"
      ]
     },
     "execution_count": 4,
     "metadata": {},
     "output_type": "execute_result"
    }
   ],
   "source": [
    "#Confirming if any of the columns have nulls\n",
    "df.isnull().sum()"
   ]
  },
  {
   "cell_type": "code",
   "execution_count": 5,
   "metadata": {},
   "outputs": [
    {
     "data": {
      "text/plain": [
       "age           int64\n",
       "job          object\n",
       "marital      object\n",
       "education    object\n",
       "default      object\n",
       "balance       int64\n",
       "housing      object\n",
       "loan         object\n",
       "contact      object\n",
       "day           int64\n",
       "month        object\n",
       "duration      int64\n",
       "campaign      int64\n",
       "pdays         int64\n",
       "previous      int64\n",
       "poutcome     object\n",
       "y            object\n",
       "dtype: object"
      ]
     },
     "execution_count": 5,
     "metadata": {},
     "output_type": "execute_result"
    }
   ],
   "source": [
    "#Checking the columns for categorical values that may need to be converted to int\n",
    "df.dtypes"
   ]
  },
  {
   "cell_type": "code",
   "execution_count": 6,
   "metadata": {},
   "outputs": [],
   "source": [
    "#creating a list of column names that are categorical to be changed to int\n",
    "cols_encode = [\n",
    "               'job', \n",
    "               'marital',\n",
    "               'education',\n",
    "               'default',\n",
    "               'housing',\n",
    "               'loan',\n",
    "               'contact',\n",
    "               'month',\n",
    "               'poutcome'\n",
    "              ]\n",
    "\n",
    "#Creating a list of int columns for later standardization\n",
    "cols_int = ['age','balance','day','duration','campaign','pdays','previous']"
   ]
  },
  {
   "cell_type": "code",
   "execution_count": 7,
   "metadata": {},
   "outputs": [
    {
     "data": {
      "text/html": [
       "<div>\n",
       "<style scoped>\n",
       "    .dataframe tbody tr th:only-of-type {\n",
       "        vertical-align: middle;\n",
       "    }\n",
       "\n",
       "    .dataframe tbody tr th {\n",
       "        vertical-align: top;\n",
       "    }\n",
       "\n",
       "    .dataframe thead th {\n",
       "        text-align: right;\n",
       "    }\n",
       "</style>\n",
       "<table border=\"1\" class=\"dataframe\">\n",
       "  <thead>\n",
       "    <tr style=\"text-align: right;\">\n",
       "      <th></th>\n",
       "      <th>age</th>\n",
       "      <th>balance</th>\n",
       "      <th>day</th>\n",
       "      <th>duration</th>\n",
       "      <th>campaign</th>\n",
       "      <th>pdays</th>\n",
       "      <th>previous</th>\n",
       "    </tr>\n",
       "  </thead>\n",
       "  <tbody>\n",
       "    <tr>\n",
       "      <td>count</td>\n",
       "      <td>8000.000000</td>\n",
       "      <td>8000.000000</td>\n",
       "      <td>8000.000000</td>\n",
       "      <td>8000.000000</td>\n",
       "      <td>8000.000000</td>\n",
       "      <td>8000.0</td>\n",
       "      <td>8000.0</td>\n",
       "    </tr>\n",
       "    <tr>\n",
       "      <td>mean</td>\n",
       "      <td>39.452125</td>\n",
       "      <td>1010.212625</td>\n",
       "      <td>17.634125</td>\n",
       "      <td>264.975250</td>\n",
       "      <td>2.542000</td>\n",
       "      <td>-1.0</td>\n",
       "      <td>0.0</td>\n",
       "    </tr>\n",
       "    <tr>\n",
       "      <td>std</td>\n",
       "      <td>9.254670</td>\n",
       "      <td>2466.448855</td>\n",
       "      <td>8.230977</td>\n",
       "      <td>249.763865</td>\n",
       "      <td>2.854296</td>\n",
       "      <td>0.0</td>\n",
       "      <td>0.0</td>\n",
       "    </tr>\n",
       "    <tr>\n",
       "      <td>min</td>\n",
       "      <td>20.000000</td>\n",
       "      <td>-3372.000000</td>\n",
       "      <td>2.000000</td>\n",
       "      <td>0.000000</td>\n",
       "      <td>1.000000</td>\n",
       "      <td>-1.0</td>\n",
       "      <td>0.0</td>\n",
       "    </tr>\n",
       "    <tr>\n",
       "      <td>25%</td>\n",
       "      <td>32.000000</td>\n",
       "      <td>40.000000</td>\n",
       "      <td>9.000000</td>\n",
       "      <td>118.000000</td>\n",
       "      <td>1.000000</td>\n",
       "      <td>-1.0</td>\n",
       "      <td>0.0</td>\n",
       "    </tr>\n",
       "    <tr>\n",
       "      <td>50%</td>\n",
       "      <td>38.000000</td>\n",
       "      <td>323.000000</td>\n",
       "      <td>16.000000</td>\n",
       "      <td>193.000000</td>\n",
       "      <td>2.000000</td>\n",
       "      <td>-1.0</td>\n",
       "      <td>0.0</td>\n",
       "    </tr>\n",
       "    <tr>\n",
       "      <td>75%</td>\n",
       "      <td>46.000000</td>\n",
       "      <td>1025.000000</td>\n",
       "      <td>26.000000</td>\n",
       "      <td>322.000000</td>\n",
       "      <td>3.000000</td>\n",
       "      <td>-1.0</td>\n",
       "      <td>0.0</td>\n",
       "    </tr>\n",
       "    <tr>\n",
       "      <td>max</td>\n",
       "      <td>61.000000</td>\n",
       "      <td>58544.000000</td>\n",
       "      <td>30.000000</td>\n",
       "      <td>3366.000000</td>\n",
       "      <td>63.000000</td>\n",
       "      <td>-1.0</td>\n",
       "      <td>0.0</td>\n",
       "    </tr>\n",
       "  </tbody>\n",
       "</table>\n",
       "</div>"
      ],
      "text/plain": [
       "               age       balance          day     duration     campaign  \\\n",
       "count  8000.000000   8000.000000  8000.000000  8000.000000  8000.000000   \n",
       "mean     39.452125   1010.212625    17.634125   264.975250     2.542000   \n",
       "std       9.254670   2466.448855     8.230977   249.763865     2.854296   \n",
       "min      20.000000  -3372.000000     2.000000     0.000000     1.000000   \n",
       "25%      32.000000     40.000000     9.000000   118.000000     1.000000   \n",
       "50%      38.000000    323.000000    16.000000   193.000000     2.000000   \n",
       "75%      46.000000   1025.000000    26.000000   322.000000     3.000000   \n",
       "max      61.000000  58544.000000    30.000000  3366.000000    63.000000   \n",
       "\n",
       "        pdays  previous  \n",
       "count  8000.0    8000.0  \n",
       "mean     -1.0       0.0  \n",
       "std       0.0       0.0  \n",
       "min      -1.0       0.0  \n",
       "25%      -1.0       0.0  \n",
       "50%      -1.0       0.0  \n",
       "75%      -1.0       0.0  \n",
       "max      -1.0       0.0  "
      ]
     },
     "execution_count": 7,
     "metadata": {},
     "output_type": "execute_result"
    }
   ],
   "source": [
    "df.describe()"
   ]
  },
  {
   "cell_type": "code",
   "execution_count": 8,
   "metadata": {},
   "outputs": [
    {
     "name": "stdout",
     "output_type": "stream",
     "text": [
      "job\n",
      "['management' 'technician' 'entrepreneur' 'blue-collar' 'unknown'\n",
      " 'retired' 'admin.' 'services' 'self-employed' 'unemployed' 'housemaid'\n",
      " 'student']\n",
      " \n",
      "marital\n",
      "['married' 'single' 'divorced']\n",
      " \n",
      "education\n",
      "['tertiary' 'secondary' 'unknown' 'primary']\n",
      " \n",
      "default\n",
      "['no' 'yes']\n",
      " \n",
      "housing\n",
      "['yes' 'no']\n",
      " \n",
      "loan\n",
      "['no' 'yes']\n",
      " \n",
      "contact\n",
      "['unknown']\n",
      " \n",
      "month\n",
      "['may' 'jun']\n",
      " \n",
      "poutcome\n",
      "['unknown']\n",
      " \n"
     ]
    }
   ],
   "source": [
    "#printing unique values of categorical variables as a check\n",
    "for col in cols_encode:\n",
    "    print(col)\n",
    "    print(df[col].unique())\n",
    "    print(\" \")"
   ]
  },
  {
   "cell_type": "code",
   "execution_count": 9,
   "metadata": {},
   "outputs": [
    {
     "name": "stdout",
     "output_type": "stream",
     "text": [
      "[0 1]\n"
     ]
    },
    {
     "name": "stderr",
     "output_type": "stream",
     "text": [
      "C:\\ProgramData\\Anaconda3\\lib\\site-packages\\ipykernel_launcher.py:1: SettingWithCopyWarning: \n",
      "A value is trying to be set on a copy of a slice from a DataFrame.\n",
      "Try using .loc[row_indexer,col_indexer] = value instead\n",
      "\n",
      "See the caveats in the documentation: http://pandas.pydata.org/pandas-docs/stable/user_guide/indexing.html#returning-a-view-versus-a-copy\n",
      "  \"\"\"Entry point for launching an IPython kernel.\n",
      "C:\\ProgramData\\Anaconda3\\lib\\site-packages\\ipykernel_launcher.py:2: SettingWithCopyWarning: \n",
      "A value is trying to be set on a copy of a slice from a DataFrame.\n",
      "Try using .loc[row_indexer,col_indexer] = value instead\n",
      "\n",
      "See the caveats in the documentation: http://pandas.pydata.org/pandas-docs/stable/user_guide/indexing.html#returning-a-view-versus-a-copy\n",
      "  \n"
     ]
    }
   ],
   "source": [
    "df['y'] = df['y'].replace(['no'], 0)\n",
    "df['y'] = df['y'].replace(['yes'], 1)\n",
    "\n",
    "print(df['y'].unique())"
   ]
  },
  {
   "cell_type": "code",
   "execution_count": 10,
   "metadata": {},
   "outputs": [
    {
     "name": "stderr",
     "output_type": "stream",
     "text": [
      "C:\\ProgramData\\Anaconda3\\lib\\site-packages\\ipykernel_launcher.py:11: SettingWithCopyWarning: \n",
      "A value is trying to be set on a copy of a slice from a DataFrame.\n",
      "Try using .loc[row_indexer,col_indexer] = value instead\n",
      "\n",
      "See the caveats in the documentation: http://pandas.pydata.org/pandas-docs/stable/user_guide/indexing.html#returning-a-view-versus-a-copy\n",
      "  # This is added back by InteractiveShellApp.init_path()\n"
     ]
    }
   ],
   "source": [
    "#Loop created to convert catagorical columns to int values via a target encoding\n",
    "for c in cols_encode:\n",
    "    \n",
    "    i = 0\n",
    "        \n",
    "    unique_val = df[c].unique()\n",
    "    \n",
    "    mean_val = df.groupby(c)['y'].mean()\n",
    "    \n",
    "    for u in unique_val:\n",
    "        df[c] = df[c].replace([u], mean_val[u])\n",
    "        \n"
   ]
  },
  {
   "cell_type": "code",
   "execution_count": 11,
   "metadata": {},
   "outputs": [
    {
     "name": "stdout",
     "output_type": "stream",
     "text": [
      "job\n",
      "[0.03083333 0.03733122 0.02953586 0.03283019 0.04545455 0.03571429\n",
      " 0.03153611 0.02651934 0.03626943 0.03614458 0.01315789 0.02352941]\n",
      " \n",
      "marital\n",
      "[0.02466598 0.04086318 0.05120167]\n",
      " \n",
      "education\n",
      "[0.03450479 0.03206934 0.02393617 0.03254848]\n",
      " \n",
      "default\n",
      "[0.03243105 0.02380952]\n",
      " \n",
      "housing\n",
      "[0.03357847 0.02017654]\n",
      " \n",
      "loan\n",
      "[0.03333823 0.02602855]\n",
      " \n",
      "contact\n",
      "[0.03225]\n",
      " \n",
      "month\n",
      "[0.03242428 0.        ]\n",
      " \n",
      "poutcome\n",
      "[0.03225]\n",
      " \n"
     ]
    }
   ],
   "source": [
    "#printing previoius categorical values to confirm change\n",
    "for col in cols_encode:\n",
    "    print(col)\n",
    "    print(df[col].unique())\n",
    "    print(\" \")"
   ]
  },
  {
   "cell_type": "code",
   "execution_count": 12,
   "metadata": {},
   "outputs": [
    {
     "data": {
      "text/plain": [
       "age            int64\n",
       "job          float64\n",
       "marital      float64\n",
       "education    float64\n",
       "default      float64\n",
       "balance        int64\n",
       "housing      float64\n",
       "loan         float64\n",
       "contact      float64\n",
       "day            int64\n",
       "month        float64\n",
       "duration       int64\n",
       "campaign       int64\n",
       "pdays          int64\n",
       "previous       int64\n",
       "poutcome     float64\n",
       "y              int64\n",
       "dtype: object"
      ]
     },
     "execution_count": 12,
     "metadata": {},
     "output_type": "execute_result"
    }
   ],
   "source": [
    "#Checking the columns for categorical values that may need to be converted to int\n",
    "df.dtypes"
   ]
  },
  {
   "cell_type": "code",
   "execution_count": 13,
   "metadata": {},
   "outputs": [
    {
     "name": "stdout",
     "output_type": "stream",
     "text": [
      "(8000, 16)\n"
     ]
    },
    {
     "data": {
      "text/html": [
       "<div>\n",
       "<style scoped>\n",
       "    .dataframe tbody tr th:only-of-type {\n",
       "        vertical-align: middle;\n",
       "    }\n",
       "\n",
       "    .dataframe tbody tr th {\n",
       "        vertical-align: top;\n",
       "    }\n",
       "\n",
       "    .dataframe thead th {\n",
       "        text-align: right;\n",
       "    }\n",
       "</style>\n",
       "<table border=\"1\" class=\"dataframe\">\n",
       "  <thead>\n",
       "    <tr style=\"text-align: right;\">\n",
       "      <th></th>\n",
       "      <th>age</th>\n",
       "      <th>job</th>\n",
       "      <th>marital</th>\n",
       "      <th>education</th>\n",
       "      <th>default</th>\n",
       "      <th>balance</th>\n",
       "      <th>housing</th>\n",
       "      <th>loan</th>\n",
       "      <th>contact</th>\n",
       "      <th>day</th>\n",
       "      <th>month</th>\n",
       "      <th>duration</th>\n",
       "      <th>campaign</th>\n",
       "      <th>pdays</th>\n",
       "      <th>previous</th>\n",
       "      <th>poutcome</th>\n",
       "    </tr>\n",
       "  </thead>\n",
       "  <tbody>\n",
       "    <tr>\n",
       "      <td>0</td>\n",
       "      <td>58</td>\n",
       "      <td>0.030833</td>\n",
       "      <td>0.024666</td>\n",
       "      <td>0.034505</td>\n",
       "      <td>0.032431</td>\n",
       "      <td>2143</td>\n",
       "      <td>0.033578</td>\n",
       "      <td>0.033338</td>\n",
       "      <td>0.03225</td>\n",
       "      <td>5</td>\n",
       "      <td>0.032424</td>\n",
       "      <td>261</td>\n",
       "      <td>1</td>\n",
       "      <td>-1</td>\n",
       "      <td>0</td>\n",
       "      <td>0.03225</td>\n",
       "    </tr>\n",
       "    <tr>\n",
       "      <td>1</td>\n",
       "      <td>44</td>\n",
       "      <td>0.037331</td>\n",
       "      <td>0.040863</td>\n",
       "      <td>0.032069</td>\n",
       "      <td>0.032431</td>\n",
       "      <td>29</td>\n",
       "      <td>0.033578</td>\n",
       "      <td>0.033338</td>\n",
       "      <td>0.03225</td>\n",
       "      <td>5</td>\n",
       "      <td>0.032424</td>\n",
       "      <td>151</td>\n",
       "      <td>1</td>\n",
       "      <td>-1</td>\n",
       "      <td>0</td>\n",
       "      <td>0.03225</td>\n",
       "    </tr>\n",
       "    <tr>\n",
       "      <td>2</td>\n",
       "      <td>33</td>\n",
       "      <td>0.029536</td>\n",
       "      <td>0.024666</td>\n",
       "      <td>0.032069</td>\n",
       "      <td>0.032431</td>\n",
       "      <td>2</td>\n",
       "      <td>0.033578</td>\n",
       "      <td>0.026029</td>\n",
       "      <td>0.03225</td>\n",
       "      <td>5</td>\n",
       "      <td>0.032424</td>\n",
       "      <td>76</td>\n",
       "      <td>1</td>\n",
       "      <td>-1</td>\n",
       "      <td>0</td>\n",
       "      <td>0.03225</td>\n",
       "    </tr>\n",
       "    <tr>\n",
       "      <td>3</td>\n",
       "      <td>47</td>\n",
       "      <td>0.032830</td>\n",
       "      <td>0.024666</td>\n",
       "      <td>0.023936</td>\n",
       "      <td>0.032431</td>\n",
       "      <td>1506</td>\n",
       "      <td>0.033578</td>\n",
       "      <td>0.033338</td>\n",
       "      <td>0.03225</td>\n",
       "      <td>5</td>\n",
       "      <td>0.032424</td>\n",
       "      <td>92</td>\n",
       "      <td>1</td>\n",
       "      <td>-1</td>\n",
       "      <td>0</td>\n",
       "      <td>0.03225</td>\n",
       "    </tr>\n",
       "    <tr>\n",
       "      <td>4</td>\n",
       "      <td>33</td>\n",
       "      <td>0.045455</td>\n",
       "      <td>0.040863</td>\n",
       "      <td>0.023936</td>\n",
       "      <td>0.032431</td>\n",
       "      <td>1</td>\n",
       "      <td>0.020177</td>\n",
       "      <td>0.033338</td>\n",
       "      <td>0.03225</td>\n",
       "      <td>5</td>\n",
       "      <td>0.032424</td>\n",
       "      <td>198</td>\n",
       "      <td>1</td>\n",
       "      <td>-1</td>\n",
       "      <td>0</td>\n",
       "      <td>0.03225</td>\n",
       "    </tr>\n",
       "    <tr>\n",
       "      <td>...</td>\n",
       "      <td>...</td>\n",
       "      <td>...</td>\n",
       "      <td>...</td>\n",
       "      <td>...</td>\n",
       "      <td>...</td>\n",
       "      <td>...</td>\n",
       "      <td>...</td>\n",
       "      <td>...</td>\n",
       "      <td>...</td>\n",
       "      <td>...</td>\n",
       "      <td>...</td>\n",
       "      <td>...</td>\n",
       "      <td>...</td>\n",
       "      <td>...</td>\n",
       "      <td>...</td>\n",
       "      <td>...</td>\n",
       "    </tr>\n",
       "    <tr>\n",
       "      <td>7995</td>\n",
       "      <td>39</td>\n",
       "      <td>0.037331</td>\n",
       "      <td>0.024666</td>\n",
       "      <td>0.032069</td>\n",
       "      <td>0.032431</td>\n",
       "      <td>1965</td>\n",
       "      <td>0.033578</td>\n",
       "      <td>0.033338</td>\n",
       "      <td>0.03225</td>\n",
       "      <td>2</td>\n",
       "      <td>0.000000</td>\n",
       "      <td>65</td>\n",
       "      <td>1</td>\n",
       "      <td>-1</td>\n",
       "      <td>0</td>\n",
       "      <td>0.03225</td>\n",
       "    </tr>\n",
       "    <tr>\n",
       "      <td>7996</td>\n",
       "      <td>29</td>\n",
       "      <td>0.029536</td>\n",
       "      <td>0.024666</td>\n",
       "      <td>0.032069</td>\n",
       "      <td>0.032431</td>\n",
       "      <td>291</td>\n",
       "      <td>0.033578</td>\n",
       "      <td>0.033338</td>\n",
       "      <td>0.03225</td>\n",
       "      <td>2</td>\n",
       "      <td>0.000000</td>\n",
       "      <td>205</td>\n",
       "      <td>3</td>\n",
       "      <td>-1</td>\n",
       "      <td>0</td>\n",
       "      <td>0.03225</td>\n",
       "    </tr>\n",
       "    <tr>\n",
       "      <td>7997</td>\n",
       "      <td>46</td>\n",
       "      <td>0.032830</td>\n",
       "      <td>0.024666</td>\n",
       "      <td>0.032548</td>\n",
       "      <td>0.032431</td>\n",
       "      <td>938</td>\n",
       "      <td>0.033578</td>\n",
       "      <td>0.033338</td>\n",
       "      <td>0.03225</td>\n",
       "      <td>2</td>\n",
       "      <td>0.000000</td>\n",
       "      <td>92</td>\n",
       "      <td>2</td>\n",
       "      <td>-1</td>\n",
       "      <td>0</td>\n",
       "      <td>0.03225</td>\n",
       "    </tr>\n",
       "    <tr>\n",
       "      <td>7998</td>\n",
       "      <td>39</td>\n",
       "      <td>0.030833</td>\n",
       "      <td>0.024666</td>\n",
       "      <td>0.034505</td>\n",
       "      <td>0.032431</td>\n",
       "      <td>756</td>\n",
       "      <td>0.033578</td>\n",
       "      <td>0.033338</td>\n",
       "      <td>0.03225</td>\n",
       "      <td>2</td>\n",
       "      <td>0.000000</td>\n",
       "      <td>268</td>\n",
       "      <td>1</td>\n",
       "      <td>-1</td>\n",
       "      <td>0</td>\n",
       "      <td>0.03225</td>\n",
       "    </tr>\n",
       "    <tr>\n",
       "      <td>7999</td>\n",
       "      <td>53</td>\n",
       "      <td>0.032830</td>\n",
       "      <td>0.024666</td>\n",
       "      <td>0.032548</td>\n",
       "      <td>0.032431</td>\n",
       "      <td>1942</td>\n",
       "      <td>0.033578</td>\n",
       "      <td>0.033338</td>\n",
       "      <td>0.03225</td>\n",
       "      <td>2</td>\n",
       "      <td>0.000000</td>\n",
       "      <td>185</td>\n",
       "      <td>2</td>\n",
       "      <td>-1</td>\n",
       "      <td>0</td>\n",
       "      <td>0.03225</td>\n",
       "    </tr>\n",
       "  </tbody>\n",
       "</table>\n",
       "<p>8000 rows × 16 columns</p>\n",
       "</div>"
      ],
      "text/plain": [
       "      age       job   marital  education   default  balance   housing  \\\n",
       "0      58  0.030833  0.024666   0.034505  0.032431     2143  0.033578   \n",
       "1      44  0.037331  0.040863   0.032069  0.032431       29  0.033578   \n",
       "2      33  0.029536  0.024666   0.032069  0.032431        2  0.033578   \n",
       "3      47  0.032830  0.024666   0.023936  0.032431     1506  0.033578   \n",
       "4      33  0.045455  0.040863   0.023936  0.032431        1  0.020177   \n",
       "...   ...       ...       ...        ...       ...      ...       ...   \n",
       "7995   39  0.037331  0.024666   0.032069  0.032431     1965  0.033578   \n",
       "7996   29  0.029536  0.024666   0.032069  0.032431      291  0.033578   \n",
       "7997   46  0.032830  0.024666   0.032548  0.032431      938  0.033578   \n",
       "7998   39  0.030833  0.024666   0.034505  0.032431      756  0.033578   \n",
       "7999   53  0.032830  0.024666   0.032548  0.032431     1942  0.033578   \n",
       "\n",
       "          loan  contact  day     month  duration  campaign  pdays  previous  \\\n",
       "0     0.033338  0.03225    5  0.032424       261         1     -1         0   \n",
       "1     0.033338  0.03225    5  0.032424       151         1     -1         0   \n",
       "2     0.026029  0.03225    5  0.032424        76         1     -1         0   \n",
       "3     0.033338  0.03225    5  0.032424        92         1     -1         0   \n",
       "4     0.033338  0.03225    5  0.032424       198         1     -1         0   \n",
       "...        ...      ...  ...       ...       ...       ...    ...       ...   \n",
       "7995  0.033338  0.03225    2  0.000000        65         1     -1         0   \n",
       "7996  0.033338  0.03225    2  0.000000       205         3     -1         0   \n",
       "7997  0.033338  0.03225    2  0.000000        92         2     -1         0   \n",
       "7998  0.033338  0.03225    2  0.000000       268         1     -1         0   \n",
       "7999  0.033338  0.03225    2  0.000000       185         2     -1         0   \n",
       "\n",
       "      poutcome  \n",
       "0      0.03225  \n",
       "1      0.03225  \n",
       "2      0.03225  \n",
       "3      0.03225  \n",
       "4      0.03225  \n",
       "...        ...  \n",
       "7995   0.03225  \n",
       "7996   0.03225  \n",
       "7997   0.03225  \n",
       "7998   0.03225  \n",
       "7999   0.03225  \n",
       "\n",
       "[8000 rows x 16 columns]"
      ]
     },
     "execution_count": 13,
     "metadata": {},
     "output_type": "execute_result"
    }
   ],
   "source": [
    "#Creating dataframe for training without the answer column\n",
    "X = df.drop(['y'], axis = 1)\n",
    "print(X.shape)\n",
    "X"
   ]
  },
  {
   "cell_type": "code",
   "execution_count": 14,
   "metadata": {},
   "outputs": [
    {
     "data": {
      "text/plain": [
       "0       0\n",
       "1       0\n",
       "2       0\n",
       "3       0\n",
       "4       0\n",
       "       ..\n",
       "7995    0\n",
       "7996    0\n",
       "7997    0\n",
       "7998    0\n",
       "7999    0\n",
       "Name: y, Length: 8000, dtype: int64"
      ]
     },
     "execution_count": 14,
     "metadata": {},
     "output_type": "execute_result"
    }
   ],
   "source": [
    "#Creating a series with the answers that will be used for training.\n",
    "y = df['y']\n",
    "y"
   ]
  },
  {
   "cell_type": "code",
   "execution_count": 15,
   "metadata": {},
   "outputs": [],
   "source": [
    "#Splitting the data elements from X and y into a test size of 20%\n",
    "X_train, X_test, y_train, y_test = train_test_split(X, y, test_size = 0.2)"
   ]
  },
  {
   "cell_type": "code",
   "execution_count": 16,
   "metadata": {},
   "outputs": [
    {
     "data": {
      "image/png": "[encoded data removed]",
      "text/plain": [
       "<Figure size 432x288 with 1 Axes>"
      ]
     },
     "metadata": {
      "needs_background": "light"
     },
     "output_type": "display_data"
    }
   ],
   "source": [
    "#Boxplots before standardization\n",
    "boxplot = X_test.boxplot(column = cols_int)"
   ]
  },
  {
   "cell_type": "code",
   "execution_count": 17,
   "metadata": {},
   "outputs": [],
   "source": [
    "# data standardization with  sklearn\n",
    "from sklearn.preprocessing import StandardScaler\n",
    "\n",
    "# copy of datasets\n",
    "X_train_stand = X_train.copy()\n",
    "X_test_stand = X_test.copy()\n",
    "\n",
    "# apply standardization on numerical features\n",
    "for i in cols_int:\n",
    "    \n",
    "    # fit on training data column\n",
    "    scale = StandardScaler().fit(X_train_stand[[i]])\n",
    "    \n",
    "    # transform the training data column\n",
    "    X_train_stand[i] = scale.transform(X_train_stand[[i]])\n",
    "    \n",
    "    # transform the testing data column\n",
    "    X_test_stand[i] = scale.transform(X_test_stand[[i]])"
   ]
  },
  {
   "cell_type": "code",
   "execution_count": 18,
   "metadata": {},
   "outputs": [
    {
     "data": {
      "image/png": "[encoded data removed]",
      "text/plain": [
       "<Figure size 432x288 with 1 Axes>"
      ]
     },
     "metadata": {
      "needs_background": "light"
     },
     "output_type": "display_data"
    }
   ],
   "source": [
    "#Boxplots after standardization\n",
    "boxplot = X_train_stand.boxplot(column = cols_int)"
   ]
  },
  {
   "cell_type": "code",
   "execution_count": 19,
   "metadata": {},
   "outputs": [],
   "source": [
    "#Below steps are used to train and test the model before Standardization\n",
    "model = DecisionTreeClassifier()\n",
    "\n",
    "model.fit(X_train,y_train)\n",
    "\n",
    "y_predict = model.predict(X_test)\n"
   ]
  },
  {
   "cell_type": "code",
   "execution_count": 20,
   "metadata": {},
   "outputs": [
    {
     "name": "stdout",
     "output_type": "stream",
     "text": [
      "0.951875\n"
     ]
    },
    {
     "data": {
      "text/html": [
       "<div>\n",
       "<style scoped>\n",
       "    .dataframe tbody tr th:only-of-type {\n",
       "        vertical-align: middle;\n",
       "    }\n",
       "\n",
       "    .dataframe tbody tr th {\n",
       "        vertical-align: top;\n",
       "    }\n",
       "\n",
       "    .dataframe thead th {\n",
       "        text-align: right;\n",
       "    }\n",
       "</style>\n",
       "<table border=\"1\" class=\"dataframe\">\n",
       "  <thead>\n",
       "    <tr style=\"text-align: right;\">\n",
       "      <th>col_0</th>\n",
       "      <th>0</th>\n",
       "      <th>1</th>\n",
       "    </tr>\n",
       "    <tr>\n",
       "      <th>y</th>\n",
       "      <th></th>\n",
       "      <th></th>\n",
       "    </tr>\n",
       "  </thead>\n",
       "  <tbody>\n",
       "    <tr>\n",
       "      <td>0</td>\n",
       "      <td>1503</td>\n",
       "      <td>47</td>\n",
       "    </tr>\n",
       "    <tr>\n",
       "      <td>1</td>\n",
       "      <td>30</td>\n",
       "      <td>20</td>\n",
       "    </tr>\n",
       "  </tbody>\n",
       "</table>\n",
       "</div>"
      ],
      "text/plain": [
       "col_0     0   1\n",
       "y              \n",
       "0      1503  47\n",
       "1        30  20"
      ]
     },
     "execution_count": 20,
     "metadata": {},
     "output_type": "execute_result"
    }
   ],
   "source": [
    "#accuracy_score will return a value between 0 and 1, 1 being 100%\n",
    "score = accuracy_score(y_test, y_predict)\n",
    "print(score)\n",
    "#The rows are the actual and the columns are the predicted\n",
    "pd.crosstab(y_test, y_predict)"
   ]
  },
  {
   "cell_type": "code",
   "execution_count": 21,
   "metadata": {},
   "outputs": [
    {
     "name": "stdout",
     "output_type": "stream",
     "text": [
      "              precision    recall  f1-score   support\n",
      "\n",
      "           0       0.98      0.97      0.98      1550\n",
      "           1       0.30      0.40      0.34        50\n",
      "\n",
      "    accuracy                           0.95      1600\n",
      "   macro avg       0.64      0.68      0.66      1600\n",
      "weighted avg       0.96      0.95      0.96      1600\n",
      "\n"
     ]
    }
   ],
   "source": [
    "#Printing report to look at the accuracy based on y_test\n",
    "print(classification_report(y_test, y_predict))"
   ]
  },
  {
   "cell_type": "code",
   "execution_count": 22,
   "metadata": {},
   "outputs": [],
   "source": [
    "#Below steps are used to train and test the model after standardization\n",
    "model = DecisionTreeClassifier()\n",
    "\n",
    "model.fit(X_train_stand,y_train)\n",
    "\n",
    "y_predict = model.predict(X_test_stand)\n"
   ]
  },
  {
   "cell_type": "code",
   "execution_count": 23,
   "metadata": {},
   "outputs": [
    {
     "name": "stdout",
     "output_type": "stream",
     "text": [
      "0.95125\n"
     ]
    },
    {
     "data": {
      "text/html": [
       "<div>\n",
       "<style scoped>\n",
       "    .dataframe tbody tr th:only-of-type {\n",
       "        vertical-align: middle;\n",
       "    }\n",
       "\n",
       "    .dataframe tbody tr th {\n",
       "        vertical-align: top;\n",
       "    }\n",
       "\n",
       "    .dataframe thead th {\n",
       "        text-align: right;\n",
       "    }\n",
       "</style>\n",
       "<table border=\"1\" class=\"dataframe\">\n",
       "  <thead>\n",
       "    <tr style=\"text-align: right;\">\n",
       "      <th>col_0</th>\n",
       "      <th>0</th>\n",
       "      <th>1</th>\n",
       "    </tr>\n",
       "    <tr>\n",
       "      <th>y</th>\n",
       "      <th></th>\n",
       "      <th></th>\n",
       "    </tr>\n",
       "  </thead>\n",
       "  <tbody>\n",
       "    <tr>\n",
       "      <td>0</td>\n",
       "      <td>1501</td>\n",
       "      <td>49</td>\n",
       "    </tr>\n",
       "    <tr>\n",
       "      <td>1</td>\n",
       "      <td>29</td>\n",
       "      <td>21</td>\n",
       "    </tr>\n",
       "  </tbody>\n",
       "</table>\n",
       "</div>"
      ],
      "text/plain": [
       "col_0     0   1\n",
       "y              \n",
       "0      1501  49\n",
       "1        29  21"
      ]
     },
     "execution_count": 23,
     "metadata": {},
     "output_type": "execute_result"
    }
   ],
   "source": [
    "#accuracy_score will return a value between 0 and 1, 1 being 100%\n",
    "score = accuracy_score(y_test, y_predict)\n",
    "print(score)\n",
    "\n",
    "#The rows are the actual and the columns are the predicted\n",
    "pd.crosstab(y_test, y_predict)"
   ]
  },
  {
   "cell_type": "markdown",
   "metadata": {},
   "source": [
    "For an explanation of the classificatoin report see https://medium.com/@kohlishivam5522/understanding-a-classification-report-for-your-machine-learning-model-88815e2ce397"
   ]
  },
  {
   "cell_type": "code",
   "execution_count": 24,
   "metadata": {},
   "outputs": [
    {
     "name": "stdout",
     "output_type": "stream",
     "text": [
      "              precision    recall  f1-score   support\n",
      "\n",
      "           0       0.98      0.97      0.97      1550\n",
      "           1       0.30      0.42      0.35        50\n",
      "\n",
      "    accuracy                           0.95      1600\n",
      "   macro avg       0.64      0.69      0.66      1600\n",
      "weighted avg       0.96      0.95      0.96      1600\n",
      "\n"
     ]
    }
   ],
   "source": [
    "#Printing report to look at the accuracy based on y_test\n",
    "print(classification_report(y_test, y_predict))"
   ]
  },
  {
   "cell_type": "code",
   "execution_count": 25,
   "metadata": {},
   "outputs": [],
   "source": [
    "#Applying SMOTE to oversample the minority imbalance\n",
    "from imblearn.over_sampling import SMOTE \n",
    "sm = SMOTE() \n",
    "X_train_smote, y_train_smote = sm.fit_sample(X_train_stand, y_train) "
   ]
  },
  {
   "cell_type": "code",
   "execution_count": 26,
   "metadata": {},
   "outputs": [
    {
     "name": "stdout",
     "output_type": "stream",
     "text": [
      "Before SMOTE:  Counter({0: 6192, 1: 208})\n",
      "After SMOTE:  Counter({0: 6192, 1: 6192})\n"
     ]
    }
   ],
   "source": [
    "#Show the counts of the minority imbalance before and after SMOTE\n",
    "from collections import Counter\n",
    "print(\"Before SMOTE: \", Counter(y_train))\n",
    "print(\"After SMOTE: \", Counter(y_train_smote))"
   ]
  },
  {
   "cell_type": "code",
   "execution_count": 27,
   "metadata": {},
   "outputs": [
    {
     "name": "stdout",
     "output_type": "stream",
     "text": [
      "0.95375\n"
     ]
    },
    {
     "data": {
      "text/html": [
       "<div>\n",
       "<style scoped>\n",
       "    .dataframe tbody tr th:only-of-type {\n",
       "        vertical-align: middle;\n",
       "    }\n",
       "\n",
       "    .dataframe tbody tr th {\n",
       "        vertical-align: top;\n",
       "    }\n",
       "\n",
       "    .dataframe thead th {\n",
       "        text-align: right;\n",
       "    }\n",
       "</style>\n",
       "<table border=\"1\" class=\"dataframe\">\n",
       "  <thead>\n",
       "    <tr style=\"text-align: right;\">\n",
       "      <th>col_0</th>\n",
       "      <th>0</th>\n",
       "      <th>1</th>\n",
       "    </tr>\n",
       "    <tr>\n",
       "      <th>y</th>\n",
       "      <th></th>\n",
       "      <th></th>\n",
       "    </tr>\n",
       "  </thead>\n",
       "  <tbody>\n",
       "    <tr>\n",
       "      <td>0</td>\n",
       "      <td>1499</td>\n",
       "      <td>51</td>\n",
       "    </tr>\n",
       "    <tr>\n",
       "      <td>1</td>\n",
       "      <td>23</td>\n",
       "      <td>27</td>\n",
       "    </tr>\n",
       "  </tbody>\n",
       "</table>\n",
       "</div>"
      ],
      "text/plain": [
       "col_0     0   1\n",
       "y              \n",
       "0      1499  51\n",
       "1        23  27"
      ]
     },
     "execution_count": 27,
     "metadata": {},
     "output_type": "execute_result"
    }
   ],
   "source": [
    "#Traing the model after SMOTE\n",
    "model.fit(X_train_smote,y_train_smote)\n",
    "y_predict = model.predict(X_test_stand)\n",
    "\n",
    "#accuracy_score will return a value between 0 and 1, 1 being 100%\n",
    "score = accuracy_score(y_test, y_predict)\n",
    "\n",
    "print(score)\n",
    "\n",
    "#The rows are the actual and the columns are the predicted\n",
    "pd.crosstab(y_test, y_predict)"
   ]
  },
  {
   "cell_type": "code",
   "execution_count": 28,
   "metadata": {},
   "outputs": [
    {
     "name": "stdout",
     "output_type": "stream",
     "text": [
      "              precision    recall  f1-score   support\n",
      "\n",
      "           0       0.98      0.97      0.98      1550\n",
      "           1       0.35      0.54      0.42        50\n",
      "\n",
      "    accuracy                           0.95      1600\n",
      "   macro avg       0.67      0.75      0.70      1600\n",
      "weighted avg       0.96      0.95      0.96      1600\n",
      "\n"
     ]
    }
   ],
   "source": [
    "#Printing report to look at the accuracy based on y_test\n",
    "print(classification_report(y_test, y_predict))"
   ]
  },
  {
   "cell_type": "markdown",
   "metadata": {},
   "source": [
    "Recall is the ability of a classifier to find all positive instances. For each class it is defined as the ratio of true positives to the sum of true positives and false negatives."
   ]
  },
  {
   "cell_type": "code",
   "execution_count": 29,
   "metadata": {},
   "outputs": [],
   "source": [
    "#pip install xgboost"
   ]
  },
  {
   "cell_type": "code",
   "execution_count": 30,
   "metadata": {},
   "outputs": [
    {
     "name": "stdout",
     "output_type": "stream",
     "text": [
      "Test Accuracy:  0.97125\n"
     ]
    },
    {
     "data": {
      "text/html": [
       "<div>\n",
       "<style scoped>\n",
       "    .dataframe tbody tr th:only-of-type {\n",
       "        vertical-align: middle;\n",
       "    }\n",
       "\n",
       "    .dataframe tbody tr th {\n",
       "        vertical-align: top;\n",
       "    }\n",
       "\n",
       "    .dataframe thead th {\n",
       "        text-align: right;\n",
       "    }\n",
       "</style>\n",
       "<table border=\"1\" class=\"dataframe\">\n",
       "  <thead>\n",
       "    <tr style=\"text-align: right;\">\n",
       "      <th>col_0</th>\n",
       "      <th>0</th>\n",
       "      <th>1</th>\n",
       "    </tr>\n",
       "    <tr>\n",
       "      <th>y</th>\n",
       "      <th></th>\n",
       "      <th></th>\n",
       "    </tr>\n",
       "  </thead>\n",
       "  <tbody>\n",
       "    <tr>\n",
       "      <td>0</td>\n",
       "      <td>1529</td>\n",
       "      <td>21</td>\n",
       "    </tr>\n",
       "    <tr>\n",
       "      <td>1</td>\n",
       "      <td>25</td>\n",
       "      <td>25</td>\n",
       "    </tr>\n",
       "  </tbody>\n",
       "</table>\n",
       "</div>"
      ],
      "text/plain": [
       "col_0     0   1\n",
       "y              \n",
       "0      1529  21\n",
       "1        25  25"
      ]
     },
     "execution_count": 30,
     "metadata": {},
     "output_type": "execute_result"
    }
   ],
   "source": [
    "from xgboost import XGBClassifier\n",
    "\n",
    "#Running the second model as per the requirements and to also partake in hyperparameter testing\n",
    "model = XGBClassifier()\n",
    "model.fit(X_train_smote,y_train_smote)\n",
    "y_predict = model.predict(X_test_stand)\n",
    "\n",
    "#accuracy_score will return a value between 0 and 1, 1 being 100%\n",
    "score = accuracy_score(y_test, y_predict)\n",
    "print('Test Accuracy: ', score)\n",
    "\n",
    "#The rows are the actual and the columns are the predicted\n",
    "pd.crosstab(y_test, y_predict)"
   ]
  },
  {
   "cell_type": "code",
   "execution_count": 31,
   "metadata": {},
   "outputs": [
    {
     "name": "stdout",
     "output_type": "stream",
     "text": [
      "              precision    recall  f1-score   support\n",
      "\n",
      "           0       0.98      0.99      0.99      1550\n",
      "           1       0.54      0.50      0.52        50\n",
      "\n",
      "    accuracy                           0.97      1600\n",
      "   macro avg       0.76      0.74      0.75      1600\n",
      "weighted avg       0.97      0.97      0.97      1600\n",
      "\n"
     ]
    }
   ],
   "source": [
    "#Printing report to look at the accuracy based on y_test\n",
    "print(classification_report(y_test, y_predict))"
   ]
  },
  {
   "cell_type": "code",
   "execution_count": 32,
   "metadata": {},
   "outputs": [],
   "source": [
    "#Create lists that can be used in the below for loops to test hyperparameters\n",
    "maxD = [8, 9, 10, 11, 12]\n",
    "subS = [0.25, 0.5, 0.75, 1]\n",
    "nEst = [100, 200, 300, 400, 500]\n",
    "learnR = [0.05, 0.1, 0.2, 0.3]\n",
    "randS = [1, 2, 3 ,4]\n",
    "\n",
    "#Create an empty dataset for holding loop results \n",
    "resultSet = pd.DataFrame()\n",
    "\n",
    "#Series of for loops for testing hyperparameters\n",
    "for m in maxD:\n",
    "    for s in subS:\n",
    "        #for n in nEst:\n",
    "            #for l in learnR:\n",
    "                #for r in randS:\n",
    "                    model = XGBClassifier(max_depth = m,\n",
    "                                          subsample = s,\n",
    "                                          n_estimators = 300,\n",
    "                                          learning_rate = 0.1,\n",
    "                                          random_state = 3)\n",
    "\n",
    "                    model.fit(X_train_smote,y_train_smote)\n",
    "                    y_predict = model.predict(X_test_stand)\n",
    "                    y_train_predict = model.predict(X_train_stand)\n",
    "\n",
    "                    #Can only append if ingore_index is True\n",
    "                    #Loading results in empty dataframe created previous\n",
    "                    resultSet = resultSet.append({'1 max_depth': m, \n",
    "                                                  '2 subsample': s, \n",
    "                                                  '3 n_estimators': 300, #replace with n\n",
    "                                                  '4 Learning_rate': 0.1, #replace with l\n",
    "                                                  '5 random_state': 3, #replace with r\n",
    "                                                  'Train Accuracy': accuracy_score(y_train, y_train_predict),\n",
    "                                                  'Test Accuracy': accuracy_score(y_test, y_predict)},\n",
    "                                                  ignore_index = True)\n"
   ]
  },
  {
   "cell_type": "code",
   "execution_count": 33,
   "metadata": {},
   "outputs": [
    {
     "data": {
      "text/html": [
       "<div>\n",
       "<style scoped>\n",
       "    .dataframe tbody tr th:only-of-type {\n",
       "        vertical-align: middle;\n",
       "    }\n",
       "\n",
       "    .dataframe tbody tr th {\n",
       "        vertical-align: top;\n",
       "    }\n",
       "\n",
       "    .dataframe thead th {\n",
       "        text-align: right;\n",
       "    }\n",
       "</style>\n",
       "<table border=\"1\" class=\"dataframe\">\n",
       "  <thead>\n",
       "    <tr style=\"text-align: right;\">\n",
       "      <th></th>\n",
       "      <th>1 max_depth</th>\n",
       "      <th>2 subsample</th>\n",
       "      <th>3 n_estimators</th>\n",
       "      <th>4 Learning_rate</th>\n",
       "      <th>5 random_state</th>\n",
       "      <th>Test Accuracy</th>\n",
       "      <th>Train Accuracy</th>\n",
       "    </tr>\n",
       "  </thead>\n",
       "  <tbody>\n",
       "    <tr>\n",
       "      <td>13</td>\n",
       "      <td>11.0</td>\n",
       "      <td>0.5</td>\n",
       "      <td>300.0</td>\n",
       "      <td>0.1</td>\n",
       "      <td>3.0</td>\n",
       "      <td>0.974375</td>\n",
       "      <td>1.0</td>\n",
       "    </tr>\n",
       "  </tbody>\n",
       "</table>\n",
       "</div>"
      ],
      "text/plain": [
       "    1 max_depth  2 subsample  3 n_estimators  4 Learning_rate  5 random_state  \\\n",
       "13         11.0          0.5           300.0              0.1             3.0   \n",
       "\n",
       "    Test Accuracy  Train Accuracy  \n",
       "13       0.974375             1.0  "
      ]
     },
     "execution_count": 33,
     "metadata": {},
     "output_type": "execute_result"
    }
   ],
   "source": [
    "#Loading the max value for test accuracy in a variable from resultSet dataset created in the loop\n",
    "max_test = resultSet['Test Accuracy'].max()\n",
    "\n",
    "#Extracting the records with the max test accuracy to see the parameter settings to use\n",
    "rs_check = resultSet.loc[resultSet['Test Accuracy'] == max_test]\n",
    "rs_check"
   ]
  },
  {
   "cell_type": "code",
   "execution_count": null,
   "metadata": {},
   "outputs": [
    {
     "name": "stdout",
     "output_type": "stream",
     "text": [
      "Test Accuracy:  0.966875\n"
     ]
    },
    {
     "data": {
      "text/html": [
       "<div>\n",
       "<style scoped>\n",
       "    .dataframe tbody tr th:only-of-type {\n",
       "        vertical-align: middle;\n",
       "    }\n",
       "\n",
       "    .dataframe tbody tr th {\n",
       "        vertical-align: top;\n",
       "    }\n",
       "\n",
       "    .dataframe thead th {\n",
       "        text-align: right;\n",
       "    }\n",
       "</style>\n",
       "<table border=\"1\" class=\"dataframe\">\n",
       "  <thead>\n",
       "    <tr style=\"text-align: right;\">\n",
       "      <th>col_0</th>\n",
       "      <th>0</th>\n",
       "      <th>1</th>\n",
       "    </tr>\n",
       "    <tr>\n",
       "      <th>y</th>\n",
       "      <th></th>\n",
       "      <th></th>\n",
       "    </tr>\n",
       "  </thead>\n",
       "  <tbody>\n",
       "    <tr>\n",
       "      <td>0</td>\n",
       "      <td>1525</td>\n",
       "      <td>25</td>\n",
       "    </tr>\n",
       "    <tr>\n",
       "      <td>1</td>\n",
       "      <td>28</td>\n",
       "      <td>22</td>\n",
       "    </tr>\n",
       "  </tbody>\n",
       "</table>\n",
       "</div>"
      ],
      "text/plain": [
       "col_0     0   1\n",
       "y              \n",
       "0      1525  25\n",
       "1        28  22"
      ]
     },
     "execution_count": 34,
     "metadata": {},
     "output_type": "execute_result"
    }
   ],
   "source": [
    "#Running the second model as per the requirements after hyperparameter testing\n",
    "model = XGBClassifier(max_depth = 8,\n",
    "                      subsample = 0.5,\n",
    "                      n_estimators = 300,\n",
    "                      learning_rate = 0.1,\n",
    "                      random_state = 3)\n",
    "model.fit(X_train_smote,y_train_smote)\n",
    "y_predict = model.predict(X_test_stand)\n",
    "#accuracy_score will return a value between 0 and 1, 1 being 100%\n",
    "score = accuracy_score(y_test, y_predict)\n",
    "print('Test Accuracy: ', score)\n",
    "#The rows are the actual and the columns are the predicted\n",
    "pd.crosstab(y_test, y_predict)"
   ]
  },
  {
   "cell_type": "code",
   "execution_count": null,
   "metadata": {},
   "outputs": [],
   "source": []
  },
  {
   "cell_type": "code",
   "execution_count": null,
   "metadata": {},
   "outputs": [],
   "source": []
  }
 ],
 "metadata": {
  "kernelspec": {
   "display_name": "Python 3",
   "language": "python",
   "name": "python3"
  },
  "language_info": {
   "codemirror_mode": {
    "name": "ipython",
    "version": 3
   },
   "file_extension": ".py",
   "mimetype": "text/x-python",
   "name": "python",
   "nbconvert_exporter": "python",
   "pygments_lexer": "ipython3",
   "version": "3.6.10"
  }
 },
 "nbformat": 4,
 "nbformat_minor": 2
}
